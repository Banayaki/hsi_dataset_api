{
 "cells": [
  {
   "cell_type": "code",
   "execution_count": 1,
   "metadata": {},
   "outputs": [],
   "source": [
    "import numpy as np\n",
    "import cv2\n",
    "import yaml\n",
    "from hsi_dataset_api import HsiDataCropper, HsiDataset\n",
    "from sklearn.neural_network import MLPClassifier\n",
    "from sklearn.metrics import classification_report"
   ]
  },
  {
   "cell_type": "code",
   "execution_count": 2,
   "metadata": {},
   "outputs": [],
   "source": [
    "dataset = HsiDataset(r'.\\DataSet\\RC0', cropped_dataset=True)"
   ]
  },
  {
   "cell_type": "markdown",
   "metadata": {},
   "source": [
    "Let's work only with specters that contain 'potato' class"
   ]
  },
  {
   "cell_type": "code",
   "execution_count": 3,
   "metadata": {},
   "outputs": [],
   "source": [
    "specters_with_potato = []\n",
    "for data_point in dataset.data_iterator(opened=False):\n",
    "    specter = data_point.hsi\n",
    "    mask = data_point.mask\n",
    "    meta = data_point.meta\n",
    "    with open(meta, 'r') as f:\n",
    "        meta = yaml.full_load(f)\n",
    "    data_point.meta = meta\n",
    "    if 'potato' in meta['classes']:\n",
    "        specters_with_potato.append(data_point)"
   ]
  },
  {
   "cell_type": "code",
   "execution_count": 4,
   "metadata": {},
   "outputs": [
    {
     "data": {
      "text/plain": [
       "40"
      ]
     },
     "execution_count": 4,
     "metadata": {},
     "output_type": "execute_result"
    }
   ],
   "source": [
    "len(specters_with_potato)"
   ]
  },
  {
   "cell_type": "markdown",
   "metadata": {},
   "source": [
    "This array contains shuffled indices from 0 to length of specters_with_potato"
   ]
  },
  {
   "cell_type": "code",
   "execution_count": 5,
   "metadata": {},
   "outputs": [],
   "source": [
    "choose_array = np.random.permutation(len(specters_with_potato))"
   ]
  },
  {
   "cell_type": "code",
   "execution_count": 6,
   "metadata": {},
   "outputs": [],
   "source": [
    "xtrain, xtest, ytrain, ytest = [], [], [], []"
   ]
  },
  {
   "cell_type": "markdown",
   "metadata": {},
   "source": [
    "In the following cells we create train and test data by taking 20 specters for each sampling.\n",
    "\n",
    "From each specter we take 1% of vectors randomly."
   ]
  },
  {
   "cell_type": "code",
   "execution_count": 7,
   "metadata": {},
   "outputs": [],
   "source": [
    "for idx in choose_array[:20]:\n",
    "    data_point = specters_with_potato[idx]\n",
    "    specter = np.load(data_point.hsi)\n",
    "    mask = cv2.imread(data_point.mask)[..., 0]\n",
    "    meta = data_point.meta\n",
    "\n",
    "    for i in range(int(512 * 512 * 0.01)):\n",
    "        y = np.random.randint(0, 512)\n",
    "        x = np.random.randint(0, 512)\n",
    "        vec = specter[::, y, x]\n",
    "\n",
    "        xtrain.append(vec)\n",
    "        ytrain.append(mask[y, x])"
   ]
  },
  {
   "cell_type": "code",
   "execution_count": 8,
   "metadata": {},
   "outputs": [],
   "source": [
    "for idx in choose_array[20:40]:\n",
    "    data_point = specters_with_potato[idx]\n",
    "    specter = np.load(data_point.hsi)\n",
    "    mask = cv2.imread(data_point.mask)[..., 0]\n",
    "    meta = data_point.meta\n",
    "\n",
    "    for i in range(int(512 * 512 * 0.01)):\n",
    "        y = np.random.randint(0, 512)\n",
    "        x = np.random.randint(0, 512)\n",
    "        vec = specter[::, y, x]\n",
    "\n",
    "        xtest.append(vec)\n",
    "        ytest.append(mask[y, x])"
   ]
  },
  {
   "cell_type": "markdown",
   "metadata": {},
   "source": [
    "Let's train simple multilayer perceptron"
   ]
  },
  {
   "cell_type": "code",
   "execution_count": 9,
   "metadata": {},
   "outputs": [
    {
     "data": {
      "text/plain": [
       "MLPClassifier(max_iter=10000, random_state=0)"
      ]
     },
     "execution_count": 9,
     "metadata": {},
     "output_type": "execute_result"
    }
   ],
   "source": [
    "clf = MLPClassifier(random_state=0, max_iter=10_000)\n",
    "clf.fit(xtrain, ytrain)"
   ]
  },
  {
   "cell_type": "code",
   "execution_count": 10,
   "metadata": {},
   "outputs": [],
   "source": [
    "preds = clf.predict(xtest)"
   ]
  },
  {
   "cell_type": "code",
   "execution_count": 11,
   "metadata": {},
   "outputs": [
    {
     "name": "stdout",
     "output_type": "stream",
     "text": [
      "              precision    recall  f1-score   support\n",
      "\n",
      "           0       0.95      0.98      0.96     23745\n",
      "           1       0.85      0.83      0.84     24455\n",
      "           2       0.18      0.17      0.18      4220\n",
      "\n",
      "    accuracy                           0.84     52420\n",
      "   macro avg       0.66      0.66      0.66     52420\n",
      "weighted avg       0.84      0.84      0.84     52420\n",
      "\n"
     ]
    }
   ],
   "source": [
    "print(classification_report(ytest, preds))"
   ]
  }
 ],
 "metadata": {
  "interpreter": {
   "hash": "2568a87e4c20656d7f9c84bd41dae4709d03cf972818323461dddbcb4ac8e017"
  },
  "kernelspec": {
   "display_name": "Python 3",
   "language": "python",
   "name": "python3"
  },
  "language_info": {
   "codemirror_mode": {
    "name": "ipython",
    "version": 3
   },
   "file_extension": ".py",
   "mimetype": "text/x-python",
   "name": "python",
   "nbconvert_exporter": "python",
   "pygments_lexer": "ipython3",
   "version": "3.8.6"
  }
 },
 "nbformat": 4,
 "nbformat_minor": 2
}
