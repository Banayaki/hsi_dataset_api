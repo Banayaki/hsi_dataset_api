{
 "cells": [
  {
   "cell_type": "code",
   "execution_count": 36,
   "metadata": {},
   "outputs": [],
   "source": [
    "import numpy as np\n",
    "import cv2\n",
    "import yaml\n",
    "from hsi_dataset_api import HsiDataCropper, HsiDataset\n",
    "from sklearn.neural_network import MLPClassifier\n",
    "from sklearn.metrics import classification_report"
   ]
  },
  {
   "cell_type": "code",
   "execution_count": 4,
   "metadata": {},
   "outputs": [
    {
     "name": "stderr",
     "output_type": "stream",
     "text": [
      "/home/rustam/anaconda3/lib/python3.7/site-packages/hsi_dataset_api/Dataset.py:56: YAMLLoadWarning: calling yaml.load() without Loader=... is deprecated, as the default Loader is unsafe. Please read https://msg.pyyaml.org/load for full details.\n",
      "  return yaml.load(f)\n"
     ]
    }
   ],
   "source": [
    "dataset = HsiDataset('/mnt/data/cropped_hsi_data')"
   ]
  },
  {
   "cell_type": "markdown",
   "metadata": {},
   "source": [
    "Let's work only with specters that contain 'potato' class"
   ]
  },
  {
   "cell_type": "code",
   "execution_count": 22,
   "metadata": {},
   "outputs": [
    {
     "name": "stderr",
     "output_type": "stream",
     "text": [
      "/home/rustam/anaconda3/lib/python3.7/site-packages/ipykernel_launcher.py:6: YAMLLoadWarning: calling yaml.load() without Loader=... is deprecated, as the default Loader is unsafe. Please read https://msg.pyyaml.org/load for full details.\n",
      "  \n"
     ]
    }
   ],
   "source": [
    "specters_with_potato = []\n",
    "for data_point in dataset.data_iterator(opened=False):\n",
    "    specter = data_point.hsi\n",
    "    mask = data_point.mask\n",
    "    meta = data_point.meta\n",
    "    with open(meta, 'r') as f:\n",
    "        meta = yaml.load(f)\n",
    "    data_point.meta = meta\n",
    "    if 'potato' in meta['classes']:\n",
    "        specters_with_potato.append(data_point)"
   ]
  },
  {
   "cell_type": "code",
   "execution_count": 40,
   "metadata": {},
   "outputs": [
    {
     "data": {
      "text/plain": [
       "80"
      ]
     },
     "execution_count": 40,
     "metadata": {},
     "output_type": "execute_result"
    }
   ],
   "source": [
    "len(specters_with_potato)"
   ]
  },
  {
   "cell_type": "markdown",
   "metadata": {},
   "source": [
    "This array contains shuffled indices from 0 to length of specters_with_potato"
   ]
  },
  {
   "cell_type": "code",
   "execution_count": 17,
   "metadata": {},
   "outputs": [],
   "source": [
    "choose_array = np.random.permutation(len(specters_with_potato))"
   ]
  },
  {
   "cell_type": "code",
   "execution_count": 41,
   "metadata": {},
   "outputs": [],
   "source": [
    "xtrain, xtest, ytrain, ytest = [], [], [], []"
   ]
  },
  {
   "cell_type": "markdown",
   "metadata": {},
   "source": [
    "In the following cells we create train and test data by taking 20 specters for each sampling.\n",
    "\n",
    "From each specter we take 1% of vectors randomly."
   ]
  },
  {
   "cell_type": "code",
   "execution_count": 42,
   "metadata": {},
   "outputs": [],
   "source": [
    "for idx in choose_array[:20]:\n",
    "    data_point = specters_with_potato[idx]\n",
    "    specter = np.load(data_point.hsi)\n",
    "    mask = cv2.imread(data_point.mask)[..., 0]\n",
    "    meta = data_point.meta\n",
    "\n",
    "    for i in range(int(512 * 512 * 0.01)):\n",
    "        y = np.random.randint(0, 512)\n",
    "        x = np.random.randint(0, 512)\n",
    "        vec = specter[::, y, x]\n",
    "\n",
    "        xtrain.append(vec)\n",
    "        ytrain.append(mask[y, x])"
   ]
  },
  {
   "cell_type": "code",
   "execution_count": 43,
   "metadata": {},
   "outputs": [],
   "source": [
    "for idx in choose_array[20:40]:\n",
    "    data_point = specters_with_potato[idx]\n",
    "    specter = np.load(data_point.hsi)\n",
    "    mask = cv2.imread(data_point.mask)[..., 0]\n",
    "    meta = data_point.meta\n",
    "\n",
    "    for i in range(int(512 * 512 * 0.01)):\n",
    "        y = np.random.randint(0, 512)\n",
    "        x = np.random.randint(0, 512)\n",
    "        vec = specter[::, y, x]\n",
    "\n",
    "        xtest.append(vec)\n",
    "        ytest.append(mask[y, x])"
   ]
  },
  {
   "cell_type": "markdown",
   "metadata": {},
   "source": [
    "Let's train simple multilayer perceptron"
   ]
  },
  {
   "cell_type": "code",
   "execution_count": 44,
   "metadata": {},
   "outputs": [
    {
     "data": {
      "text/plain": [
       "MLPClassifier(activation='relu', alpha=0.0001, batch_size='auto', beta_1=0.9,\n",
       "              beta_2=0.999, early_stopping=False, epsilon=1e-08,\n",
       "              hidden_layer_sizes=(100,), learning_rate='constant',\n",
       "              learning_rate_init=0.001, max_iter=10000, momentum=0.9,\n",
       "              n_iter_no_change=10, nesterovs_momentum=True, power_t=0.5,\n",
       "              random_state=0, shuffle=True, solver='adam', tol=0.0001,\n",
       "              validation_fraction=0.1, verbose=False, warm_start=False)"
      ]
     },
     "execution_count": 44,
     "metadata": {},
     "output_type": "execute_result"
    }
   ],
   "source": [
    "clf = MLPClassifier(random_state=0, max_iter=10_000)\n",
    "clf.fit(xtrain, ytrain)"
   ]
  },
  {
   "cell_type": "code",
   "execution_count": 45,
   "metadata": {},
   "outputs": [],
   "source": [
    "preds = clf.predict(xtest)"
   ]
  },
  {
   "cell_type": "code",
   "execution_count": 46,
   "metadata": {},
   "outputs": [
    {
     "name": "stdout",
     "output_type": "stream",
     "text": [
      "              precision    recall  f1-score   support\n",
      "\n",
      "           0       0.94      0.93      0.94     18916\n",
      "           1       0.94      0.77      0.85     32516\n",
      "           2       0.09      0.62      0.15       988\n",
      "\n",
      "    accuracy                           0.82     52420\n",
      "   macro avg       0.66      0.77      0.64     52420\n",
      "weighted avg       0.93      0.82      0.87     52420\n",
      "\n"
     ]
    }
   ],
   "source": [
    "print(classification_report(ytest, preds))"
   ]
  },
  {
   "cell_type": "code",
   "execution_count": null,
   "metadata": {},
   "outputs": [],
   "source": []
  }
 ],
 "metadata": {
  "interpreter": {
   "hash": "2568a87e4c20656d7f9c84bd41dae4709d03cf972818323461dddbcb4ac8e017"
  },
  "kernelspec": {
   "display_name": "Python 3.7.3 64-bit ('base': conda)",
   "language": "python",
   "name": "python3"
  },
  "language_info": {
   "codemirror_mode": {
    "name": "ipython",
    "version": 3
   },
   "file_extension": ".py",
   "mimetype": "text/x-python",
   "name": "python",
   "nbconvert_exporter": "python",
   "pygments_lexer": "ipython3",
   "version": "3.7.3"
  },
  "orig_nbformat": 4
 },
 "nbformat": 4,
 "nbformat_minor": 2
}